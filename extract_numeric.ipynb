{
 "cells": [
  {
   "cell_type": "code",
   "execution_count": 2,
   "id": "7aed9d88",
   "metadata": {},
   "outputs": [],
   "source": [
    "import torch\n",
    "import torchaudio, os, numpy as np\n",
    "from pathlib import Path\n",
    "import soundfile as sf"
   ]
  },
  {
   "cell_type": "code",
   "execution_count": null,
   "id": "1860f6e1",
   "metadata": {},
   "outputs": [],
   "source": [
    "TARGET_SR = 16000\n",
    "CLIP_SECONDS = 3.0\n",
    "\n",
    "resampler = torchaudio.transforms.Resample(orig_freq=48000, new_freq=TARGET_SR)\n",
    "\n",
    "def load_and_resample(path):\n",
    "    wav, sr = sf.read(path, dtype=\"float32\")\n",
    "    if wav.ndim == 2:  # stereo → mono\n",
    "        wav = wav.mean(axis=1)\n",
    "    if sr != TARGET_SR:\n",
    "        wav = torchaudio.functional.resample(\n",
    "            torch.from_numpy(wav), sr, TARGET_SR\n",
    "        ).numpy()\n",
    "    return wav\n",
    "\n",
    "def pad_or_trim(wav):\n",
    "    length = int(CLIP_SECONDS * TARGET_SR)\n",
    "    if len(wav) > length:\n",
    "        wav = wav[:length]\n",
    "    elif len(wav) < length:\n",
    "        wav = np.pad(wav, (0, length - len(wav)))\n",
    "    return wav\n",
    "\n",
    "root = Path(\"extracted\")\n",
    "out = Path(\"prepped_raw\")\n",
    "out.mkdir(parents=True, exist_ok=True)\n",
    "\n",
    "for cls_dir in root.iterdir():\n",
    "    if not cls_dir.is_dir(): continue\n",
    "    label = cls_dir.name\n",
    "    (out/label).mkdir(exist_ok=True)\n",
    "    for wav_path in cls_dir.glob(\"*.wav\"):\n",
    "        wav = load_and_resample(str(wav_path))\n",
    "        wav = pad_or_trim(wav)\n",
    "        np.save(out/label/(wav_path.stem + \".npy\"), wav.astype(\"float32\"))"
   ]
  }
 ],
 "metadata": {
  "kernelspec": {
   "display_name": "Python 3",
   "language": "python",
   "name": "python3"
  },
  "language_info": {
   "codemirror_mode": {
    "name": "ipython",
    "version": 3
   },
   "file_extension": ".py",
   "mimetype": "text/x-python",
   "name": "python",
   "nbconvert_exporter": "python",
   "pygments_lexer": "ipython3",
   "version": "3.13.7"
  }
 },
 "nbformat": 4,
 "nbformat_minor": 5
}
