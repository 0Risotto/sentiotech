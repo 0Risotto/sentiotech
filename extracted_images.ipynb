{
  "nbformat": 4,
  "nbformat_minor": 0,
  "metadata": {
    "colab": {
      "provenance": []
    },
    "kernelspec": {
      "name": "python3",
      "display_name": "Python 3"
    },
    "language_info": {
      "name": "python"
    }
  },
  "cells": [
    {
      "cell_type": "code",
      "execution_count": null,
      "metadata": {
        "id": "rg7KISKeC2i1"
      },
      "outputs": [],
      "source": [
        "import librosa\n",
        "import librosa.display\n",
        "import matplotlib.pyplot as plt\n",
        "import numpy as np\n",
        "import os"
      ]
    },
    {
      "cell_type": "code",
      "source": [
        "# this is an example on how the audio is loaded\n",
        "file_path = \"./extracted/ANG/03-01-05-01-01-01-01.wav\"\n",
        "y, sr = librosa.load(file_path, sr=None)  # keep native sampling rate"
      ],
      "metadata": {
        "id": "yrCEYApZC8W6"
      },
      "execution_count": null,
      "outputs": []
    },
    {
      "cell_type": "code",
      "source": [
        "S = librosa.feature.melspectrogram(y=y, sr=sr, n_mels=128)\n",
        "S_dB = librosa.power_to_db(S, ref=np.max)"
      ],
      "metadata": {
        "id": "vOQDs0_TC_x6"
      },
      "execution_count": null,
      "outputs": []
    },
    {
      "cell_type": "code",
      "source": [
        "plt.figure(figsize=(3, 3))  # adjust for CNN input size\n",
        "librosa.display.specshow(S_dB, sr=sr, x_axis=None, y_axis=None, cmap='viridis')\n",
        "plt.axis('off')\n",
        "plt.tight_layout(pad=0)\n",
        "\n",
        "out_path = \"./spectrograms/ANG/example.png\"\n",
        "os.makedirs(os.path.dirname(out_path), exist_ok=True)\n",
        "plt.savefig(out_path, bbox_inches='tight', pad_inches=0)\n",
        "plt.close()"
      ],
      "metadata": {
        "id": "q1lWkQQpDBNe"
      },
      "execution_count": null,
      "outputs": []
    },
    {
      "cell_type": "code",
      "source": [
        "input_root = \"./extracted\"\n",
        "output_root = \"./spectrograms\"\n",
        "\n",
        "for emotion in os.listdir(input_root):\n",
        "    emotion_dir = os.path.join(input_root, emotion)\n",
        "    if not os.path.isdir(emotion_dir):\n",
        "        continue\n",
        "\n",
        "    for wav in os.listdir(emotion_dir):\n",
        "        if not wav.endswith(\".wav\"):\n",
        "            continue\n",
        "\n",
        "        file_path = os.path.join(emotion_dir, wav)\n",
        "        y, sr = librosa.load(file_path, sr=None)\n",
        "\n",
        "        # Mel spectrogram\n",
        "        S = librosa.feature.melspectrogram(y=y, sr=sr, n_mels=128)\n",
        "        S_dB = librosa.power_to_db(S, ref=np.max)\n",
        "\n",
        "        # Save as image\n",
        "        plt.figure(figsize=(3, 3))\n",
        "        librosa.display.specshow(S_dB, sr=sr, cmap='viridis')\n",
        "        plt.axis('off')\n",
        "        plt.tight_layout(pad=0)\n",
        "\n",
        "        out_dir = os.path.join(output_root, emotion)\n",
        "        os.makedirs(out_dir, exist_ok=True)\n",
        "        out_path = os.path.join(out_dir, wav.replace(\".wav\", \".png\"))\n",
        "        plt.savefig(out_path, bbox_inches='tight', pad_inches=0)\n",
        "        plt.close()"
      ],
      "metadata": {
        "id": "hpge_g-dDDVG"
      },
      "execution_count": null,
      "outputs": []
    }
  ]
}
